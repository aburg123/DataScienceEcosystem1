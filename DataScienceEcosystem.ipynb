{
 "cells": [
  {
   "cell_type": "markdown",
   "id": "493e9064-8d35-4696-aa95-cb98c5b14d90",
   "metadata": {},
   "source": [
    "DataScienceEcosystem"
   ]
  },
  {
   "cell_type": "markdown",
   "id": "68dd781a-14c4-4ed1-96b2-760c3f325ec1",
   "metadata": {},
   "source": [
    "### In this notebook, Data Science Tools and Ecosystem are summarized."
   ]
  },
  {
   "cell_type": "markdown",
   "id": "dc264abd-5e2b-4e71-91b8-ac5747824749",
   "metadata": {
    "tags": []
   },
   "source": [
    " Some of the commonly used libraries used by Data Scientists include:\n",
    "1. python\n",
    "2. R\n",
    "3. SQL"
   ]
  },
  {
   "cell_type": "markdown",
   "id": "88a2abcd-5462-4b16-ab11-98267d411032",
   "metadata": {
    "tags": []
   },
   "source": [
    " Some of the commonly used libraries used by Data Scientists include:\n",
    "1. Pandas\n",
    "2. NumPy\n",
    "3. matplotlib"
   ]
  },
  {
   "cell_type": "markdown",
   "id": "ebd1d5bb-4da8-4e68-9c50-56ded7d98ccf",
   "metadata": {},
   "source": [
    "| Data Science Tools       |\n",
    "|--------------------------|\n",
    "| Jupyter Notebooks        |\n",
    "| RStudio                  |\n",
    "| VS Code                  |\n"
   ]
  },
  {
   "cell_type": "markdown",
   "id": "67e79c3f-1db4-4261-a86d-c86f4b3de5d6",
   "metadata": {},
   "source": [
    "### Below are a few examples of evaluating arithmetic expressions in Python"
   ]
  },
  {
   "cell_type": "code",
   "execution_count": 1,
   "id": "3b5f5c2a-d9ab-483a-ad37-79b8f64e4670",
   "metadata": {
    "tags": []
   },
   "outputs": [
    {
     "data": {
      "text/plain": [
       "17"
      ]
     },
     "execution_count": 1,
     "metadata": {},
     "output_type": "execute_result"
    }
   ],
   "source": [
    "# This a simple arithmetic expression to mutiply then add integers.\n",
    "(3*4)+5"
   ]
  },
  {
   "cell_type": "code",
   "execution_count": 2,
   "id": "10395201-6dc5-499d-a8ca-7935410b482e",
   "metadata": {
    "tags": []
   },
   "outputs": [
    {
     "data": {
      "text/plain": [
       "3.3333333333333335"
      ]
     },
     "execution_count": 2,
     "metadata": {},
     "output_type": "execute_result"
    }
   ],
   "source": [
    "# This will convert 200 minutes to hours by diving by 60\n",
    "200/60"
   ]
  },
  {
   "cell_type": "markdown",
   "id": "fb10c4db-b742-4b81-bc9d-5a3267ddf6da",
   "metadata": {},
   "source": [
    "**Objectives**\n",
    "\n",
    "-List popular languages for data science <br>\n",
    "-List popular programs for data science <br>\n",
    "-Convert 200 minutes to hours <br>"
   ]
  },
  {
   "cell_type": "markdown",
   "id": "9a159ad6-7dfd-40e0-9c14-1628b120f719",
   "metadata": {},
   "source": [
    "## Author\n",
    "Aaron Burgard"
   ]
  },
  {
   "cell_type": "code",
   "execution_count": null,
   "id": "6aab2184-008a-43fd-a57f-281648fd89b4",
   "metadata": {},
   "outputs": [],
   "source": []
  }
 ],
 "metadata": {
  "kernelspec": {
   "display_name": "Python",
   "language": "python",
   "name": "conda-env-python-py"
  },
  "language_info": {
   "codemirror_mode": {
    "name": "ipython",
    "version": 3
   },
   "file_extension": ".py",
   "mimetype": "text/x-python",
   "name": "python",
   "nbconvert_exporter": "python",
   "pygments_lexer": "ipython3",
   "version": "3.7.12"
  }
 },
 "nbformat": 4,
 "nbformat_minor": 5
}
